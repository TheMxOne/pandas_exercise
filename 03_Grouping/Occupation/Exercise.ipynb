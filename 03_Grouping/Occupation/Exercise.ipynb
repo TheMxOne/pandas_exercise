{
 "cells": [
  {
   "cell_type": "markdown",
   "metadata": {},
   "source": [
    "# Occupation"
   ]
  },
  {
   "cell_type": "markdown",
   "metadata": {},
   "source": [
    "### Introduction:\n",
    "\n",
    "Special thanks to: https://github.com/justmarkham for sharing the dataset and materials.\n",
    "\n",
    "### Step 1. Import the necessary libraries"
   ]
  },
  {
   "cell_type": "code",
   "execution_count": 1,
   "metadata": {
    "collapsed": false
   },
   "outputs": [],
   "source": [
    "import pandas as pd"
   ]
  },
  {
   "cell_type": "markdown",
   "metadata": {},
   "source": [
    "### Step 2. Import the dataset from this [address](https://raw.githubusercontent.com/justmarkham/DAT8/master/data/u.user). "
   ]
  },
  {
   "cell_type": "code",
   "execution_count": 2,
   "metadata": {},
   "outputs": [],
   "source": [
    "url = 'https://raw.githubusercontent.com/justmarkham/DAT8/master/data/u.user'"
   ]
  },
  {
   "cell_type": "markdown",
   "metadata": {},
   "source": [
    "### Step 3. Assign it to a variable called users."
   ]
  },
  {
   "cell_type": "code",
   "execution_count": 3,
   "metadata": {
    "collapsed": false
   },
   "outputs": [],
   "source": [
    "users = pd.read_csv(url, sep='|')"
   ]
  },
  {
   "cell_type": "markdown",
   "metadata": {},
   "source": [
    "### Step 4. Discover what is the mean age per occupation"
   ]
  },
  {
   "cell_type": "code",
   "execution_count": 6,
   "metadata": {
    "collapsed": false
   },
   "outputs": [
    {
     "data": {
      "application/vnd.microsoft.datawrangler.viewer.v0+json": {
       "columns": [
        {
         "name": "occupation",
         "rawType": "object",
         "type": "string"
        },
        {
         "name": "age",
         "rawType": "float64",
         "type": "float"
        }
       ],
       "ref": "64367746-9248-499a-a836-3eeaf0645fe3",
       "rows": [
        [
         "administrator",
         "38.74683544303797"
        ],
        [
         "artist",
         "31.392857142857142"
        ],
        [
         "doctor",
         "43.57142857142857"
        ],
        [
         "educator",
         "42.01052631578948"
        ],
        [
         "engineer",
         "36.38805970149254"
        ],
        [
         "entertainment",
         "29.22222222222222"
        ],
        [
         "executive",
         "38.71875"
        ],
        [
         "healthcare",
         "41.5625"
        ],
        [
         "homemaker",
         "32.57142857142857"
        ],
        [
         "lawyer",
         "36.75"
        ],
        [
         "librarian",
         "40.0"
        ],
        [
         "marketing",
         "37.61538461538461"
        ],
        [
         "none",
         "26.555555555555557"
        ],
        [
         "other",
         "34.523809523809526"
        ],
        [
         "programmer",
         "33.121212121212125"
        ],
        [
         "retired",
         "63.07142857142857"
        ],
        [
         "salesman",
         "35.666666666666664"
        ],
        [
         "scientist",
         "35.54838709677419"
        ],
        [
         "student",
         "22.081632653061224"
        ],
        [
         "technician",
         "33.148148148148145"
        ],
        [
         "writer",
         "36.31111111111111"
        ]
       ],
       "shape": {
        "columns": 1,
        "rows": 21
       }
      },
      "text/plain": [
       "occupation\n",
       "administrator    38.746835\n",
       "artist           31.392857\n",
       "doctor           43.571429\n",
       "educator         42.010526\n",
       "engineer         36.388060\n",
       "entertainment    29.222222\n",
       "executive        38.718750\n",
       "healthcare       41.562500\n",
       "homemaker        32.571429\n",
       "lawyer           36.750000\n",
       "librarian        40.000000\n",
       "marketing        37.615385\n",
       "none             26.555556\n",
       "other            34.523810\n",
       "programmer       33.121212\n",
       "retired          63.071429\n",
       "salesman         35.666667\n",
       "scientist        35.548387\n",
       "student          22.081633\n",
       "technician       33.148148\n",
       "writer           36.311111\n",
       "Name: age, dtype: float64"
      ]
     },
     "execution_count": 6,
     "metadata": {},
     "output_type": "execute_result"
    }
   ],
   "source": [
    "users.groupby('occupation')['age'].mean()"
   ]
  },
  {
   "cell_type": "markdown",
   "metadata": {},
   "source": [
    "### Step 5. Discover the Male ratio per occupation and sort it from the most to the least"
   ]
  },
  {
   "cell_type": "code",
   "execution_count": 37,
   "metadata": {
    "collapsed": false
   },
   "outputs": [
    {
     "data": {
      "application/vnd.microsoft.datawrangler.viewer.v0+json": {
       "columns": [
        {
         "name": "occupation",
         "rawType": "object",
         "type": "string"
        },
        {
         "name": "proportion",
         "rawType": "float64",
         "type": "float"
        }
       ],
       "ref": "54d4ab4d-63b5-4526-ae1e-57e5220385e6",
       "rows": [
        [
         "doctor",
         "1.0"
        ],
        [
         "engineer",
         "0.9701492537313433"
        ],
        [
         "technician",
         "0.9629629629629629"
        ],
        [
         "retired",
         "0.9285714285714286"
        ],
        [
         "programmer",
         "0.9090909090909091"
        ],
        [
         "executive",
         "0.90625"
        ],
        [
         "scientist",
         "0.9032258064516129"
        ],
        [
         "entertainment",
         "0.8888888888888888"
        ],
        [
         "lawyer",
         "0.8333333333333334"
        ],
        [
         "salesman",
         "0.75"
        ],
        [
         "educator",
         "0.7263157894736842"
        ],
        [
         "student",
         "0.6938775510204082"
        ],
        [
         "other",
         "0.6571428571428571"
        ],
        [
         "marketing",
         "0.6153846153846154"
        ],
        [
         "writer",
         "0.5777777777777777"
        ],
        [
         "none",
         "0.5555555555555556"
        ],
        [
         "administrator",
         "0.5443037974683544"
        ],
        [
         "artist",
         "0.5357142857142857"
        ],
        [
         "librarian",
         "0.43137254901960786"
        ],
        [
         "healthcare",
         "0.3125"
        ],
        [
         "homemaker",
         "0.14285714285714285"
        ]
       ],
       "shape": {
        "columns": 1,
        "rows": 21
       }
      },
      "text/plain": [
       "occupation\n",
       "doctor           1.000000\n",
       "engineer         0.970149\n",
       "technician       0.962963\n",
       "retired          0.928571\n",
       "programmer       0.909091\n",
       "executive        0.906250\n",
       "scientist        0.903226\n",
       "entertainment    0.888889\n",
       "lawyer           0.833333\n",
       "salesman         0.750000\n",
       "educator         0.726316\n",
       "student          0.693878\n",
       "other            0.657143\n",
       "marketing        0.615385\n",
       "writer           0.577778\n",
       "none             0.555556\n",
       "administrator    0.544304\n",
       "artist           0.535714\n",
       "librarian        0.431373\n",
       "healthcare       0.312500\n",
       "homemaker        0.142857\n",
       "Name: proportion, dtype: float64"
      ]
     },
     "execution_count": 37,
     "metadata": {},
     "output_type": "execute_result"
    }
   ],
   "source": [
    "users.groupby('occupation')['gender'].value_counts(normalize=True).loc[pd.IndexSlice[:, \"M\"]].sort_values(ascending=False)"
   ]
  },
  {
   "cell_type": "markdown",
   "metadata": {},
   "source": [
    "### Step 6. For each occupation, calculate the minimum and maximum ages"
   ]
  },
  {
   "cell_type": "code",
   "execution_count": 30,
   "metadata": {
    "collapsed": false
   },
   "outputs": [
    {
     "data": {
      "application/vnd.microsoft.datawrangler.viewer.v0+json": {
       "columns": [
        {
         "name": "occupation",
         "rawType": "object",
         "type": "string"
        },
        {
         "name": "min",
         "rawType": "int64",
         "type": "integer"
        },
        {
         "name": "max",
         "rawType": "int64",
         "type": "integer"
        }
       ],
       "ref": "6ef53650-7a32-46df-ac91-d28a68ccddaf",
       "rows": [
        [
         "administrator",
         "21",
         "70"
        ],
        [
         "artist",
         "19",
         "48"
        ],
        [
         "doctor",
         "28",
         "64"
        ],
        [
         "educator",
         "23",
         "63"
        ],
        [
         "engineer",
         "22",
         "70"
        ],
        [
         "entertainment",
         "15",
         "50"
        ],
        [
         "executive",
         "22",
         "69"
        ],
        [
         "healthcare",
         "22",
         "62"
        ],
        [
         "homemaker",
         "20",
         "50"
        ],
        [
         "lawyer",
         "21",
         "53"
        ],
        [
         "librarian",
         "23",
         "69"
        ],
        [
         "marketing",
         "24",
         "55"
        ],
        [
         "none",
         "11",
         "55"
        ],
        [
         "other",
         "13",
         "64"
        ],
        [
         "programmer",
         "20",
         "63"
        ],
        [
         "retired",
         "51",
         "73"
        ],
        [
         "salesman",
         "18",
         "66"
        ],
        [
         "scientist",
         "23",
         "55"
        ],
        [
         "student",
         "7",
         "42"
        ],
        [
         "technician",
         "21",
         "55"
        ],
        [
         "writer",
         "18",
         "60"
        ]
       ],
       "shape": {
        "columns": 2,
        "rows": 21
       }
      },
      "text/html": [
       "<div>\n",
       "<style scoped>\n",
       "    .dataframe tbody tr th:only-of-type {\n",
       "        vertical-align: middle;\n",
       "    }\n",
       "\n",
       "    .dataframe tbody tr th {\n",
       "        vertical-align: top;\n",
       "    }\n",
       "\n",
       "    .dataframe thead th {\n",
       "        text-align: right;\n",
       "    }\n",
       "</style>\n",
       "<table border=\"1\" class=\"dataframe\">\n",
       "  <thead>\n",
       "    <tr style=\"text-align: right;\">\n",
       "      <th></th>\n",
       "      <th>min</th>\n",
       "      <th>max</th>\n",
       "    </tr>\n",
       "    <tr>\n",
       "      <th>occupation</th>\n",
       "      <th></th>\n",
       "      <th></th>\n",
       "    </tr>\n",
       "  </thead>\n",
       "  <tbody>\n",
       "    <tr>\n",
       "      <th>administrator</th>\n",
       "      <td>21</td>\n",
       "      <td>70</td>\n",
       "    </tr>\n",
       "    <tr>\n",
       "      <th>artist</th>\n",
       "      <td>19</td>\n",
       "      <td>48</td>\n",
       "    </tr>\n",
       "    <tr>\n",
       "      <th>doctor</th>\n",
       "      <td>28</td>\n",
       "      <td>64</td>\n",
       "    </tr>\n",
       "    <tr>\n",
       "      <th>educator</th>\n",
       "      <td>23</td>\n",
       "      <td>63</td>\n",
       "    </tr>\n",
       "    <tr>\n",
       "      <th>engineer</th>\n",
       "      <td>22</td>\n",
       "      <td>70</td>\n",
       "    </tr>\n",
       "    <tr>\n",
       "      <th>entertainment</th>\n",
       "      <td>15</td>\n",
       "      <td>50</td>\n",
       "    </tr>\n",
       "    <tr>\n",
       "      <th>executive</th>\n",
       "      <td>22</td>\n",
       "      <td>69</td>\n",
       "    </tr>\n",
       "    <tr>\n",
       "      <th>healthcare</th>\n",
       "      <td>22</td>\n",
       "      <td>62</td>\n",
       "    </tr>\n",
       "    <tr>\n",
       "      <th>homemaker</th>\n",
       "      <td>20</td>\n",
       "      <td>50</td>\n",
       "    </tr>\n",
       "    <tr>\n",
       "      <th>lawyer</th>\n",
       "      <td>21</td>\n",
       "      <td>53</td>\n",
       "    </tr>\n",
       "    <tr>\n",
       "      <th>librarian</th>\n",
       "      <td>23</td>\n",
       "      <td>69</td>\n",
       "    </tr>\n",
       "    <tr>\n",
       "      <th>marketing</th>\n",
       "      <td>24</td>\n",
       "      <td>55</td>\n",
       "    </tr>\n",
       "    <tr>\n",
       "      <th>none</th>\n",
       "      <td>11</td>\n",
       "      <td>55</td>\n",
       "    </tr>\n",
       "    <tr>\n",
       "      <th>other</th>\n",
       "      <td>13</td>\n",
       "      <td>64</td>\n",
       "    </tr>\n",
       "    <tr>\n",
       "      <th>programmer</th>\n",
       "      <td>20</td>\n",
       "      <td>63</td>\n",
       "    </tr>\n",
       "    <tr>\n",
       "      <th>retired</th>\n",
       "      <td>51</td>\n",
       "      <td>73</td>\n",
       "    </tr>\n",
       "    <tr>\n",
       "      <th>salesman</th>\n",
       "      <td>18</td>\n",
       "      <td>66</td>\n",
       "    </tr>\n",
       "    <tr>\n",
       "      <th>scientist</th>\n",
       "      <td>23</td>\n",
       "      <td>55</td>\n",
       "    </tr>\n",
       "    <tr>\n",
       "      <th>student</th>\n",
       "      <td>7</td>\n",
       "      <td>42</td>\n",
       "    </tr>\n",
       "    <tr>\n",
       "      <th>technician</th>\n",
       "      <td>21</td>\n",
       "      <td>55</td>\n",
       "    </tr>\n",
       "    <tr>\n",
       "      <th>writer</th>\n",
       "      <td>18</td>\n",
       "      <td>60</td>\n",
       "    </tr>\n",
       "  </tbody>\n",
       "</table>\n",
       "</div>"
      ],
      "text/plain": [
       "               min  max\n",
       "occupation             \n",
       "administrator   21   70\n",
       "artist          19   48\n",
       "doctor          28   64\n",
       "educator        23   63\n",
       "engineer        22   70\n",
       "entertainment   15   50\n",
       "executive       22   69\n",
       "healthcare      22   62\n",
       "homemaker       20   50\n",
       "lawyer          21   53\n",
       "librarian       23   69\n",
       "marketing       24   55\n",
       "none            11   55\n",
       "other           13   64\n",
       "programmer      20   63\n",
       "retired         51   73\n",
       "salesman        18   66\n",
       "scientist       23   55\n",
       "student          7   42\n",
       "technician      21   55\n",
       "writer          18   60"
      ]
     },
     "execution_count": 30,
     "metadata": {},
     "output_type": "execute_result"
    }
   ],
   "source": [
    "users.groupby('occupation')['age'].agg(['min','max'])"
   ]
  },
  {
   "cell_type": "markdown",
   "metadata": {},
   "source": [
    "### Step 7. For each combination of occupation and gender, calculate the mean age"
   ]
  },
  {
   "cell_type": "code",
   "execution_count": 31,
   "metadata": {
    "collapsed": false
   },
   "outputs": [
    {
     "data": {
      "application/vnd.microsoft.datawrangler.viewer.v0+json": {
       "columns": [
        {
         "name": "('occupation', 'gender')",
         "rawType": "object",
         "type": "unknown"
        },
        {
         "name": "age",
         "rawType": "float64",
         "type": "float"
        }
       ],
       "ref": "b37aa1e1-69f0-4589-b234-2f9ec3476bd1",
       "rows": [
        [
         "('administrator', 'F')",
         "40.638888888888886"
        ],
        [
         "('administrator', 'M')",
         "37.16279069767442"
        ],
        [
         "('artist', 'F')",
         "30.307692307692307"
        ],
        [
         "('artist', 'M')",
         "32.333333333333336"
        ],
        [
         "('doctor', 'M')",
         "43.57142857142857"
        ],
        [
         "('educator', 'F')",
         "39.11538461538461"
        ],
        [
         "('educator', 'M')",
         "43.10144927536232"
        ],
        [
         "('engineer', 'F')",
         "29.5"
        ],
        [
         "('engineer', 'M')",
         "36.6"
        ],
        [
         "('entertainment', 'F')",
         "31.0"
        ],
        [
         "('entertainment', 'M')",
         "29.0"
        ],
        [
         "('executive', 'F')",
         "44.0"
        ],
        [
         "('executive', 'M')",
         "38.172413793103445"
        ],
        [
         "('healthcare', 'F')",
         "39.81818181818182"
        ],
        [
         "('healthcare', 'M')",
         "45.4"
        ],
        [
         "('homemaker', 'F')",
         "34.166666666666664"
        ],
        [
         "('homemaker', 'M')",
         "23.0"
        ],
        [
         "('lawyer', 'F')",
         "39.5"
        ],
        [
         "('lawyer', 'M')",
         "36.2"
        ],
        [
         "('librarian', 'F')",
         "40.0"
        ],
        [
         "('librarian', 'M')",
         "40.0"
        ],
        [
         "('marketing', 'F')",
         "37.2"
        ],
        [
         "('marketing', 'M')",
         "37.875"
        ],
        [
         "('none', 'F')",
         "36.5"
        ],
        [
         "('none', 'M')",
         "18.6"
        ],
        [
         "('other', 'F')",
         "35.47222222222222"
        ],
        [
         "('other', 'M')",
         "34.028985507246375"
        ],
        [
         "('programmer', 'F')",
         "32.166666666666664"
        ],
        [
         "('programmer', 'M')",
         "33.21666666666667"
        ],
        [
         "('retired', 'F')",
         "70.0"
        ],
        [
         "('retired', 'M')",
         "62.53846153846154"
        ],
        [
         "('salesman', 'F')",
         "27.0"
        ],
        [
         "('salesman', 'M')",
         "38.55555555555556"
        ],
        [
         "('scientist', 'F')",
         "28.333333333333332"
        ],
        [
         "('scientist', 'M')",
         "36.32142857142857"
        ],
        [
         "('student', 'F')",
         "20.75"
        ],
        [
         "('student', 'M')",
         "22.669117647058822"
        ],
        [
         "('technician', 'F')",
         "38.0"
        ],
        [
         "('technician', 'M')",
         "32.96153846153846"
        ],
        [
         "('writer', 'F')",
         "37.63157894736842"
        ],
        [
         "('writer', 'M')",
         "35.34615384615385"
        ]
       ],
       "shape": {
        "columns": 1,
        "rows": 41
       }
      },
      "text/plain": [
       "occupation     gender\n",
       "administrator  F         40.638889\n",
       "               M         37.162791\n",
       "artist         F         30.307692\n",
       "               M         32.333333\n",
       "doctor         M         43.571429\n",
       "educator       F         39.115385\n",
       "               M         43.101449\n",
       "engineer       F         29.500000\n",
       "               M         36.600000\n",
       "entertainment  F         31.000000\n",
       "               M         29.000000\n",
       "executive      F         44.000000\n",
       "               M         38.172414\n",
       "healthcare     F         39.818182\n",
       "               M         45.400000\n",
       "homemaker      F         34.166667\n",
       "               M         23.000000\n",
       "lawyer         F         39.500000\n",
       "               M         36.200000\n",
       "librarian      F         40.000000\n",
       "               M         40.000000\n",
       "marketing      F         37.200000\n",
       "               M         37.875000\n",
       "none           F         36.500000\n",
       "               M         18.600000\n",
       "other          F         35.472222\n",
       "               M         34.028986\n",
       "programmer     F         32.166667\n",
       "               M         33.216667\n",
       "retired        F         70.000000\n",
       "               M         62.538462\n",
       "salesman       F         27.000000\n",
       "               M         38.555556\n",
       "scientist      F         28.333333\n",
       "               M         36.321429\n",
       "student        F         20.750000\n",
       "               M         22.669118\n",
       "technician     F         38.000000\n",
       "               M         32.961538\n",
       "writer         F         37.631579\n",
       "               M         35.346154\n",
       "Name: age, dtype: float64"
      ]
     },
     "execution_count": 31,
     "metadata": {},
     "output_type": "execute_result"
    }
   ],
   "source": [
    "users.groupby(['occupation', 'gender'])['age'].mean()"
   ]
  },
  {
   "cell_type": "markdown",
   "metadata": {},
   "source": [
    "### Step 8.  For each occupation present the percentage of women and men"
   ]
  },
  {
   "cell_type": "code",
   "execution_count": 32,
   "metadata": {
    "collapsed": false
   },
   "outputs": [
    {
     "data": {
      "application/vnd.microsoft.datawrangler.viewer.v0+json": {
       "columns": [
        {
         "name": "('occupation', 'gender')",
         "rawType": "object",
         "type": "unknown"
        },
        {
         "name": "proportion",
         "rawType": "float64",
         "type": "float"
        }
       ],
       "ref": "2789cd9b-dbe8-4fb6-951e-4fda969d0fd2",
       "rows": [
        [
         "('administrator', 'M')",
         "0.5443037974683544"
        ],
        [
         "('administrator', 'F')",
         "0.45569620253164556"
        ],
        [
         "('artist', 'M')",
         "0.5357142857142857"
        ],
        [
         "('artist', 'F')",
         "0.4642857142857143"
        ],
        [
         "('doctor', 'M')",
         "1.0"
        ],
        [
         "('educator', 'M')",
         "0.7263157894736842"
        ],
        [
         "('educator', 'F')",
         "0.2736842105263158"
        ],
        [
         "('engineer', 'M')",
         "0.9701492537313433"
        ],
        [
         "('engineer', 'F')",
         "0.029850746268656716"
        ],
        [
         "('entertainment', 'M')",
         "0.8888888888888888"
        ],
        [
         "('entertainment', 'F')",
         "0.1111111111111111"
        ],
        [
         "('executive', 'M')",
         "0.90625"
        ],
        [
         "('executive', 'F')",
         "0.09375"
        ],
        [
         "('healthcare', 'F')",
         "0.6875"
        ],
        [
         "('healthcare', 'M')",
         "0.3125"
        ],
        [
         "('homemaker', 'F')",
         "0.8571428571428571"
        ],
        [
         "('homemaker', 'M')",
         "0.14285714285714285"
        ],
        [
         "('lawyer', 'M')",
         "0.8333333333333334"
        ],
        [
         "('lawyer', 'F')",
         "0.16666666666666666"
        ],
        [
         "('librarian', 'F')",
         "0.5686274509803921"
        ],
        [
         "('librarian', 'M')",
         "0.43137254901960786"
        ],
        [
         "('marketing', 'M')",
         "0.6153846153846154"
        ],
        [
         "('marketing', 'F')",
         "0.38461538461538464"
        ],
        [
         "('none', 'M')",
         "0.5555555555555556"
        ],
        [
         "('none', 'F')",
         "0.4444444444444444"
        ],
        [
         "('other', 'M')",
         "0.6571428571428571"
        ],
        [
         "('other', 'F')",
         "0.34285714285714286"
        ],
        [
         "('programmer', 'M')",
         "0.9090909090909091"
        ],
        [
         "('programmer', 'F')",
         "0.09090909090909091"
        ],
        [
         "('retired', 'M')",
         "0.9285714285714286"
        ],
        [
         "('retired', 'F')",
         "0.07142857142857142"
        ],
        [
         "('salesman', 'M')",
         "0.75"
        ],
        [
         "('salesman', 'F')",
         "0.25"
        ],
        [
         "('scientist', 'M')",
         "0.9032258064516129"
        ],
        [
         "('scientist', 'F')",
         "0.0967741935483871"
        ],
        [
         "('student', 'M')",
         "0.6938775510204082"
        ],
        [
         "('student', 'F')",
         "0.30612244897959184"
        ],
        [
         "('technician', 'M')",
         "0.9629629629629629"
        ],
        [
         "('technician', 'F')",
         "0.037037037037037035"
        ],
        [
         "('writer', 'M')",
         "0.5777777777777777"
        ],
        [
         "('writer', 'F')",
         "0.4222222222222222"
        ]
       ],
       "shape": {
        "columns": 1,
        "rows": 41
       }
      },
      "text/plain": [
       "occupation     gender\n",
       "administrator  M         0.544304\n",
       "               F         0.455696\n",
       "artist         M         0.535714\n",
       "               F         0.464286\n",
       "doctor         M         1.000000\n",
       "educator       M         0.726316\n",
       "               F         0.273684\n",
       "engineer       M         0.970149\n",
       "               F         0.029851\n",
       "entertainment  M         0.888889\n",
       "               F         0.111111\n",
       "executive      M         0.906250\n",
       "               F         0.093750\n",
       "healthcare     F         0.687500\n",
       "               M         0.312500\n",
       "homemaker      F         0.857143\n",
       "               M         0.142857\n",
       "lawyer         M         0.833333\n",
       "               F         0.166667\n",
       "librarian      F         0.568627\n",
       "               M         0.431373\n",
       "marketing      M         0.615385\n",
       "               F         0.384615\n",
       "none           M         0.555556\n",
       "               F         0.444444\n",
       "other          M         0.657143\n",
       "               F         0.342857\n",
       "programmer     M         0.909091\n",
       "               F         0.090909\n",
       "retired        M         0.928571\n",
       "               F         0.071429\n",
       "salesman       M         0.750000\n",
       "               F         0.250000\n",
       "scientist      M         0.903226\n",
       "               F         0.096774\n",
       "student        M         0.693878\n",
       "               F         0.306122\n",
       "technician     M         0.962963\n",
       "               F         0.037037\n",
       "writer         M         0.577778\n",
       "               F         0.422222\n",
       "Name: proportion, dtype: float64"
      ]
     },
     "execution_count": 32,
     "metadata": {},
     "output_type": "execute_result"
    }
   ],
   "source": [
    "users.groupby('occupation')['gender'].value_counts(normalize=True)"
   ]
  }
 ],
 "metadata": {
  "kernelspec": {
   "display_name": "base",
   "language": "python",
   "name": "python3"
  },
  "language_info": {
   "codemirror_mode": {
    "name": "ipython",
    "version": 3
   },
   "file_extension": ".py",
   "mimetype": "text/x-python",
   "name": "python",
   "nbconvert_exporter": "python",
   "pygments_lexer": "ipython3",
   "version": "3.12.7"
  }
 },
 "nbformat": 4,
 "nbformat_minor": 0
}
