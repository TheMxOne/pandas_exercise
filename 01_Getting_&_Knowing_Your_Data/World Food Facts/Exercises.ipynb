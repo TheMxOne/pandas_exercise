{
 "cells": [
  {
   "cell_type": "markdown",
   "metadata": {},
   "source": [
    "# Exercise 1"
   ]
  },
  {
   "cell_type": "markdown",
   "metadata": {},
   "source": [
    "### Step 1. Go to https://www.kaggle.com/openfoodfacts/world-food-facts/data"
   ]
  },
  {
   "cell_type": "markdown",
   "metadata": {},
   "source": [
    "### Step 2. Download the dataset to your computer and unzip it."
   ]
  },
  {
   "cell_type": "markdown",
   "metadata": {},
   "source": [
    "### Step 3. Use the tsv file and assign it to a dataframe called food"
   ]
  },
  {
   "cell_type": "code",
   "execution_count": 17,
   "metadata": {
    "collapsed": true
   },
   "outputs": [],
   "source": [
    "import pandas as pd"
   ]
  },
  {
   "cell_type": "code",
   "execution_count": 4,
   "metadata": {},
   "outputs": [
    {
     "name": "stderr",
     "output_type": "stream",
     "text": [
      "C:\\Users\\33781\\AppData\\Local\\Temp\\ipykernel_5300\\1347532582.py:1: DtypeWarning: Columns (0,3,5,19,20,24,25,26,27,28,36,37,38,39,48) have mixed types. Specify dtype option on import or set low_memory=False.\n",
      "  food = pd.read_csv('en.openfoodfacts.org.products.tsv', sep='\\t')\n"
     ]
    }
   ],
   "source": [
    "food = pd.read_csv('en.openfoodfacts.org.products.tsv', sep='\\t')"
   ]
  },
  {
   "cell_type": "markdown",
   "metadata": {},
   "source": [
    "### Step 4. See the first 5 entries"
   ]
  },
  {
   "cell_type": "code",
   "execution_count": 5,
   "metadata": {
    "collapsed": true
   },
   "outputs": [
    {
     "data": {
      "application/vnd.microsoft.datawrangler.viewer.v0+json": {
       "columns": [
        {
         "name": "index",
         "rawType": "int64",
         "type": "integer"
        },
        {
         "name": "code",
         "rawType": "object",
         "type": "unknown"
        },
        {
         "name": "url",
         "rawType": "object",
         "type": "string"
        },
        {
         "name": "creator",
         "rawType": "object",
         "type": "string"
        },
        {
         "name": "created_t",
         "rawType": "object",
         "type": "unknown"
        },
        {
         "name": "created_datetime",
         "rawType": "object",
         "type": "string"
        },
        {
         "name": "last_modified_t",
         "rawType": "object",
         "type": "unknown"
        },
        {
         "name": "last_modified_datetime",
         "rawType": "object",
         "type": "string"
        },
        {
         "name": "product_name",
         "rawType": "object",
         "type": "string"
        },
        {
         "name": "generic_name",
         "rawType": "object",
         "type": "unknown"
        },
        {
         "name": "quantity",
         "rawType": "object",
         "type": "unknown"
        },
        {
         "name": "packaging",
         "rawType": "object",
         "type": "unknown"
        },
        {
         "name": "packaging_tags",
         "rawType": "object",
         "type": "unknown"
        },
        {
         "name": "brands",
         "rawType": "object",
         "type": "unknown"
        },
        {
         "name": "brands_tags",
         "rawType": "object",
         "type": "unknown"
        },
        {
         "name": "categories",
         "rawType": "object",
         "type": "unknown"
        },
        {
         "name": "categories_tags",
         "rawType": "object",
         "type": "unknown"
        },
        {
         "name": "categories_en",
         "rawType": "object",
         "type": "unknown"
        },
        {
         "name": "origins",
         "rawType": "object",
         "type": "unknown"
        },
        {
         "name": "origins_tags",
         "rawType": "object",
         "type": "unknown"
        },
        {
         "name": "manufacturing_places",
         "rawType": "object",
         "type": "unknown"
        },
        {
         "name": "manufacturing_places_tags",
         "rawType": "object",
         "type": "unknown"
        },
        {
         "name": "labels",
         "rawType": "object",
         "type": "unknown"
        },
        {
         "name": "labels_tags",
         "rawType": "object",
         "type": "unknown"
        },
        {
         "name": "labels_en",
         "rawType": "object",
         "type": "unknown"
        },
        {
         "name": "emb_codes",
         "rawType": "object",
         "type": "unknown"
        },
        {
         "name": "emb_codes_tags",
         "rawType": "object",
         "type": "unknown"
        },
        {
         "name": "first_packaging_code_geo",
         "rawType": "object",
         "type": "unknown"
        },
        {
         "name": "cities",
         "rawType": "object",
         "type": "unknown"
        },
        {
         "name": "cities_tags",
         "rawType": "object",
         "type": "unknown"
        },
        {
         "name": "purchase_places",
         "rawType": "object",
         "type": "unknown"
        },
        {
         "name": "stores",
         "rawType": "object",
         "type": "unknown"
        },
        {
         "name": "countries",
         "rawType": "object",
         "type": "string"
        },
        {
         "name": "countries_tags",
         "rawType": "object",
         "type": "string"
        },
        {
         "name": "countries_en",
         "rawType": "object",
         "type": "string"
        },
        {
         "name": "ingredients_text",
         "rawType": "object",
         "type": "unknown"
        },
        {
         "name": "allergens",
         "rawType": "object",
         "type": "unknown"
        },
        {
         "name": "allergens_en",
         "rawType": "object",
         "type": "unknown"
        },
        {
         "name": "traces",
         "rawType": "object",
         "type": "unknown"
        },
        {
         "name": "traces_tags",
         "rawType": "object",
         "type": "unknown"
        },
        {
         "name": "traces_en",
         "rawType": "object",
         "type": "unknown"
        },
        {
         "name": "serving_size",
         "rawType": "object",
         "type": "unknown"
        },
        {
         "name": "no_nutriments",
         "rawType": "float64",
         "type": "float"
        },
        {
         "name": "additives_n",
         "rawType": "float64",
         "type": "float"
        },
        {
         "name": "additives",
         "rawType": "object",
         "type": "unknown"
        },
        {
         "name": "additives_tags",
         "rawType": "object",
         "type": "unknown"
        },
        {
         "name": "additives_en",
         "rawType": "object",
         "type": "unknown"
        },
        {
         "name": "ingredients_from_palm_oil_n",
         "rawType": "float64",
         "type": "float"
        },
        {
         "name": "ingredients_from_palm_oil",
         "rawType": "float64",
         "type": "float"
        },
        {
         "name": "ingredients_from_palm_oil_tags",
         "rawType": "object",
         "type": "unknown"
        },
        {
         "name": "ingredients_that_may_be_from_palm_oil_n",
         "rawType": "float64",
         "type": "float"
        },
        {
         "name": "ingredients_that_may_be_from_palm_oil",
         "rawType": "float64",
         "type": "float"
        },
        {
         "name": "ingredients_that_may_be_from_palm_oil_tags",
         "rawType": "object",
         "type": "unknown"
        },
        {
         "name": "nutrition_grade_uk",
         "rawType": "float64",
         "type": "float"
        },
        {
         "name": "nutrition_grade_fr",
         "rawType": "object",
         "type": "unknown"
        },
        {
         "name": "pnns_groups_1",
         "rawType": "object",
         "type": "unknown"
        },
        {
         "name": "pnns_groups_2",
         "rawType": "object",
         "type": "unknown"
        },
        {
         "name": "states",
         "rawType": "object",
         "type": "string"
        },
        {
         "name": "states_tags",
         "rawType": "object",
         "type": "string"
        },
        {
         "name": "states_en",
         "rawType": "object",
         "type": "string"
        },
        {
         "name": "main_category",
         "rawType": "object",
         "type": "unknown"
        },
        {
         "name": "main_category_en",
         "rawType": "object",
         "type": "unknown"
        },
        {
         "name": "image_url",
         "rawType": "object",
         "type": "unknown"
        },
        {
         "name": "image_small_url",
         "rawType": "object",
         "type": "unknown"
        },
        {
         "name": "energy_100g",
         "rawType": "float64",
         "type": "float"
        },
        {
         "name": "energy-from-fat_100g",
         "rawType": "float64",
         "type": "float"
        },
        {
         "name": "fat_100g",
         "rawType": "float64",
         "type": "float"
        },
        {
         "name": "saturated-fat_100g",
         "rawType": "float64",
         "type": "float"
        },
        {
         "name": "-butyric-acid_100g",
         "rawType": "float64",
         "type": "float"
        },
        {
         "name": "-caproic-acid_100g",
         "rawType": "float64",
         "type": "float"
        },
        {
         "name": "-caprylic-acid_100g",
         "rawType": "float64",
         "type": "float"
        },
        {
         "name": "-capric-acid_100g",
         "rawType": "float64",
         "type": "float"
        },
        {
         "name": "-lauric-acid_100g",
         "rawType": "float64",
         "type": "float"
        },
        {
         "name": "-myristic-acid_100g",
         "rawType": "float64",
         "type": "float"
        },
        {
         "name": "-palmitic-acid_100g",
         "rawType": "float64",
         "type": "float"
        },
        {
         "name": "-stearic-acid_100g",
         "rawType": "float64",
         "type": "float"
        },
        {
         "name": "-arachidic-acid_100g",
         "rawType": "float64",
         "type": "float"
        },
        {
         "name": "-behenic-acid_100g",
         "rawType": "float64",
         "type": "float"
        },
        {
         "name": "-lignoceric-acid_100g",
         "rawType": "float64",
         "type": "float"
        },
        {
         "name": "-cerotic-acid_100g",
         "rawType": "float64",
         "type": "float"
        },
        {
         "name": "-montanic-acid_100g",
         "rawType": "float64",
         "type": "float"
        },
        {
         "name": "-melissic-acid_100g",
         "rawType": "float64",
         "type": "float"
        },
        {
         "name": "monounsaturated-fat_100g",
         "rawType": "float64",
         "type": "float"
        },
        {
         "name": "polyunsaturated-fat_100g",
         "rawType": "float64",
         "type": "float"
        },
        {
         "name": "omega-3-fat_100g",
         "rawType": "float64",
         "type": "float"
        },
        {
         "name": "-alpha-linolenic-acid_100g",
         "rawType": "float64",
         "type": "float"
        },
        {
         "name": "-eicosapentaenoic-acid_100g",
         "rawType": "float64",
         "type": "float"
        },
        {
         "name": "-docosahexaenoic-acid_100g",
         "rawType": "float64",
         "type": "float"
        },
        {
         "name": "omega-6-fat_100g",
         "rawType": "float64",
         "type": "float"
        },
        {
         "name": "-linoleic-acid_100g",
         "rawType": "float64",
         "type": "float"
        },
        {
         "name": "-arachidonic-acid_100g",
         "rawType": "float64",
         "type": "float"
        },
        {
         "name": "-gamma-linolenic-acid_100g",
         "rawType": "float64",
         "type": "float"
        },
        {
         "name": "-dihomo-gamma-linolenic-acid_100g",
         "rawType": "float64",
         "type": "float"
        },
        {
         "name": "omega-9-fat_100g",
         "rawType": "float64",
         "type": "float"
        },
        {
         "name": "-oleic-acid_100g",
         "rawType": "float64",
         "type": "float"
        },
        {
         "name": "-elaidic-acid_100g",
         "rawType": "float64",
         "type": "float"
        },
        {
         "name": "-gondoic-acid_100g",
         "rawType": "float64",
         "type": "float"
        },
        {
         "name": "-mead-acid_100g",
         "rawType": "float64",
         "type": "float"
        },
        {
         "name": "-erucic-acid_100g",
         "rawType": "float64",
         "type": "float"
        },
        {
         "name": "-nervonic-acid_100g",
         "rawType": "float64",
         "type": "float"
        },
        {
         "name": "trans-fat_100g",
         "rawType": "float64",
         "type": "float"
        },
        {
         "name": "cholesterol_100g",
         "rawType": "float64",
         "type": "float"
        },
        {
         "name": "carbohydrates_100g",
         "rawType": "float64",
         "type": "float"
        },
        {
         "name": "sugars_100g",
         "rawType": "float64",
         "type": "float"
        },
        {
         "name": "-sucrose_100g",
         "rawType": "float64",
         "type": "float"
        },
        {
         "name": "-glucose_100g",
         "rawType": "float64",
         "type": "float"
        },
        {
         "name": "-fructose_100g",
         "rawType": "float64",
         "type": "float"
        },
        {
         "name": "-lactose_100g",
         "rawType": "float64",
         "type": "float"
        },
        {
         "name": "-maltose_100g",
         "rawType": "float64",
         "type": "float"
        },
        {
         "name": "-maltodextrins_100g",
         "rawType": "float64",
         "type": "float"
        },
        {
         "name": "starch_100g",
         "rawType": "float64",
         "type": "float"
        },
        {
         "name": "polyols_100g",
         "rawType": "float64",
         "type": "float"
        },
        {
         "name": "fiber_100g",
         "rawType": "float64",
         "type": "float"
        },
        {
         "name": "proteins_100g",
         "rawType": "float64",
         "type": "float"
        },
        {
         "name": "casein_100g",
         "rawType": "float64",
         "type": "float"
        },
        {
         "name": "serum-proteins_100g",
         "rawType": "float64",
         "type": "float"
        },
        {
         "name": "nucleotides_100g",
         "rawType": "float64",
         "type": "float"
        },
        {
         "name": "salt_100g",
         "rawType": "float64",
         "type": "float"
        },
        {
         "name": "sodium_100g",
         "rawType": "float64",
         "type": "float"
        },
        {
         "name": "alcohol_100g",
         "rawType": "float64",
         "type": "float"
        },
        {
         "name": "vitamin-a_100g",
         "rawType": "float64",
         "type": "float"
        },
        {
         "name": "beta-carotene_100g",
         "rawType": "float64",
         "type": "float"
        },
        {
         "name": "vitamin-d_100g",
         "rawType": "float64",
         "type": "float"
        },
        {
         "name": "vitamin-e_100g",
         "rawType": "float64",
         "type": "float"
        },
        {
         "name": "vitamin-k_100g",
         "rawType": "float64",
         "type": "float"
        },
        {
         "name": "vitamin-c_100g",
         "rawType": "float64",
         "type": "float"
        },
        {
         "name": "vitamin-b1_100g",
         "rawType": "float64",
         "type": "float"
        },
        {
         "name": "vitamin-b2_100g",
         "rawType": "float64",
         "type": "float"
        },
        {
         "name": "vitamin-pp_100g",
         "rawType": "float64",
         "type": "float"
        },
        {
         "name": "vitamin-b6_100g",
         "rawType": "float64",
         "type": "float"
        },
        {
         "name": "vitamin-b9_100g",
         "rawType": "float64",
         "type": "float"
        },
        {
         "name": "folates_100g",
         "rawType": "float64",
         "type": "float"
        },
        {
         "name": "vitamin-b12_100g",
         "rawType": "float64",
         "type": "float"
        },
        {
         "name": "biotin_100g",
         "rawType": "float64",
         "type": "float"
        },
        {
         "name": "pantothenic-acid_100g",
         "rawType": "float64",
         "type": "float"
        },
        {
         "name": "silica_100g",
         "rawType": "float64",
         "type": "float"
        },
        {
         "name": "bicarbonate_100g",
         "rawType": "float64",
         "type": "float"
        },
        {
         "name": "potassium_100g",
         "rawType": "float64",
         "type": "float"
        },
        {
         "name": "chloride_100g",
         "rawType": "float64",
         "type": "float"
        },
        {
         "name": "calcium_100g",
         "rawType": "float64",
         "type": "float"
        },
        {
         "name": "phosphorus_100g",
         "rawType": "float64",
         "type": "float"
        },
        {
         "name": "iron_100g",
         "rawType": "float64",
         "type": "float"
        },
        {
         "name": "magnesium_100g",
         "rawType": "float64",
         "type": "float"
        },
        {
         "name": "zinc_100g",
         "rawType": "float64",
         "type": "float"
        },
        {
         "name": "copper_100g",
         "rawType": "float64",
         "type": "float"
        },
        {
         "name": "manganese_100g",
         "rawType": "float64",
         "type": "float"
        },
        {
         "name": "fluoride_100g",
         "rawType": "float64",
         "type": "float"
        },
        {
         "name": "selenium_100g",
         "rawType": "float64",
         "type": "float"
        },
        {
         "name": "chromium_100g",
         "rawType": "float64",
         "type": "float"
        },
        {
         "name": "molybdenum_100g",
         "rawType": "float64",
         "type": "float"
        },
        {
         "name": "iodine_100g",
         "rawType": "float64",
         "type": "float"
        },
        {
         "name": "caffeine_100g",
         "rawType": "float64",
         "type": "float"
        },
        {
         "name": "taurine_100g",
         "rawType": "float64",
         "type": "float"
        },
        {
         "name": "ph_100g",
         "rawType": "float64",
         "type": "float"
        },
        {
         "name": "fruits-vegetables-nuts_100g",
         "rawType": "float64",
         "type": "float"
        },
        {
         "name": "fruits-vegetables-nuts-estimate_100g",
         "rawType": "float64",
         "type": "float"
        },
        {
         "name": "collagen-meat-protein-ratio_100g",
         "rawType": "float64",
         "type": "float"
        },
        {
         "name": "cocoa_100g",
         "rawType": "float64",
         "type": "float"
        },
        {
         "name": "chlorophyl_100g",
         "rawType": "float64",
         "type": "float"
        },
        {
         "name": "carbon-footprint_100g",
         "rawType": "float64",
         "type": "float"
        },
        {
         "name": "nutrition-score-fr_100g",
         "rawType": "float64",
         "type": "float"
        },
        {
         "name": "nutrition-score-uk_100g",
         "rawType": "float64",
         "type": "float"
        },
        {
         "name": "glycemic-index_100g",
         "rawType": "float64",
         "type": "float"
        },
        {
         "name": "water-hardness_100g",
         "rawType": "float64",
         "type": "float"
        }
       ],
       "ref": "e63a4ca0-f463-4bdd-96f9-3a0ad68abb88",
       "rows": [
        [
         "0",
         "3087",
         "http://world-en.openfoodfacts.org/product/0000000003087/farine-de-ble-noir-ferme-t-y-r-nao",
         "openfoodfacts-contributors",
         "1474103866",
         "2016-09-17T09:17:46Z",
         "1474103893",
         "2016-09-17T09:18:13Z",
         "Farine de blé noir",
         null,
         "1kg",
         null,
         null,
         "Ferme t'y R'nao",
         "ferme-t-y-r-nao",
         null,
         null,
         null,
         null,
         null,
         null,
         null,
         null,
         null,
         null,
         null,
         null,
         null,
         null,
         null,
         null,
         null,
         "en:FR",
         "en:france",
         "France",
         null,
         null,
         null,
         null,
         null,
         null,
         null,
         null,
         null,
         null,
         null,
         null,
         null,
         null,
         null,
         null,
         null,
         null,
         null,
         null,
         null,
         null,
         "en:to-be-completed, en:nutrition-facts-to-be-completed, en:ingredients-to-be-completed, en:expiration-date-to-be-completed, en:characteristics-to-be-completed, en:categories-to-be-completed, en:brands-completed, en:packaging-to-be-completed, en:quantity-completed, en:product-name-completed, en:photos-to-be-validated, en:photos-uploaded",
         "en:to-be-completed,en:nutrition-facts-to-be-completed,en:ingredients-to-be-completed,en:expiration-date-to-be-completed,en:characteristics-to-be-completed,en:categories-to-be-completed,en:brands-completed,en:packaging-to-be-completed,en:quantity-completed,en:product-name-completed,en:photos-to-be-validated,en:photos-uploaded",
         "To be completed,Nutrition facts to be completed,Ingredients to be completed,Expiration date to be completed,Characteristics to be completed,Categories to be completed,Brands completed,Packaging to be completed,Quantity completed,Product name completed,Photos to be validated,Photos uploaded",
         null,
         null,
         null,
         null,
         null,
         null,
         null,
         null,
         null,
         null,
         null,
         null,
         null,
         null,
         null,
         null,
         null,
         null,
         null,
         null,
         null,
         null,
         null,
         null,
         null,
         null,
         null,
         null,
         null,
         null,
         null,
         null,
         null,
         null,
         null,
         null,
         null,
         null,
         null,
         null,
         null,
         null,
         null,
         null,
         null,
         null,
         null,
         null,
         null,
         null,
         null,
         null,
         null,
         null,
         null,
         null,
         null,
         null,
         null,
         null,
         null,
         null,
         null,
         null,
         null,
         null,
         null,
         null,
         null,
         null,
         null,
         null,
         null,
         null,
         null,
         null,
         null,
         null,
         null,
         null,
         null,
         null,
         null,
         null,
         null,
         null,
         null,
         null,
         null,
         null,
         null,
         null,
         null,
         null,
         null,
         null,
         null,
         null,
         null,
         null,
         null,
         null,
         null,
         null
        ],
        [
         "1",
         "4530",
         "http://world-en.openfoodfacts.org/product/0000000004530/banana-chips-sweetened-whole",
         "usda-ndb-import",
         "1489069957",
         "2017-03-09T14:32:37Z",
         "1489069957",
         "2017-03-09T14:32:37Z",
         "Banana Chips Sweetened (Whole)",
         null,
         null,
         null,
         null,
         null,
         null,
         null,
         null,
         null,
         null,
         null,
         null,
         null,
         null,
         null,
         null,
         null,
         null,
         null,
         null,
         null,
         null,
         null,
         "US",
         "en:united-states",
         "United States",
         "Bananas, vegetable oil (coconut oil, corn oil and/or palm oil) sugar, natural banana flavor.",
         null,
         null,
         null,
         null,
         null,
         "28 g (1 ONZ)",
         null,
         "0.0",
         " [ bananas -> en:bananas  ]  [ vegetable-oil -> en:vegetable-oil  ]  [ oil -> en:oil  ]  [ coconut-oil -> en:coconut-oil  ]  [ oil -> en:oil  ]  [ corn-oil-and-or-palm-oil-sugar -> en:corn-oil-and-or-palm-oil-sugar  ]  [ oil-and-or-palm-oil-sugar -> en:oil-and-or-palm-oil-sugar  ]  [ and-or-palm-oil-sugar -> en:and-or-palm-oil-sugar  ]  [ or-palm-oil-sugar -> en:or-palm-oil-sugar  ]  [ palm-oil-sugar -> en:palm-oil-sugar  ]  [ oil-sugar -> en:oil-sugar  ]  [ sugar -> en:sugar  ]  [ natural-banana-flavor -> en:natural-banana-flavor  ]  [ banana-flavor -> en:banana-flavor  ]  [ flavor -> en:flavor  ] ",
         null,
         null,
         "0.0",
         null,
         null,
         "0.0",
         null,
         null,
         null,
         "d",
         null,
         null,
         "en:to-be-completed, en:nutrition-facts-completed, en:ingredients-completed, en:expiration-date-to-be-completed, en:packaging-code-to-be-completed, en:characteristics-to-be-completed, en:categories-to-be-completed, en:brands-to-be-completed, en:packaging-to-be-completed, en:quantity-to-be-completed, en:product-name-completed, en:photos-to-be-uploaded",
         "en:to-be-completed,en:nutrition-facts-completed,en:ingredients-completed,en:expiration-date-to-be-completed,en:packaging-code-to-be-completed,en:characteristics-to-be-completed,en:categories-to-be-completed,en:brands-to-be-completed,en:packaging-to-be-completed,en:quantity-to-be-completed,en:product-name-completed,en:photos-to-be-uploaded",
         "To be completed,Nutrition facts completed,Ingredients completed,Expiration date to be completed,Packaging-code-to-be-completed,Characteristics to be completed,Categories to be completed,Brands to be completed,Packaging to be completed,Quantity to be completed,Product name completed,Photos to be uploaded",
         null,
         null,
         null,
         null,
         "2243.0",
         null,
         "28.57",
         "28.57",
         null,
         null,
         null,
         null,
         null,
         null,
         null,
         null,
         null,
         null,
         null,
         null,
         null,
         null,
         null,
         null,
         null,
         null,
         null,
         null,
         null,
         null,
         null,
         null,
         null,
         null,
         null,
         null,
         null,
         null,
         null,
         null,
         "0.0",
         "0.018",
         "64.29",
         "14.29",
         null,
         null,
         null,
         null,
         null,
         null,
         null,
         null,
         "3.6",
         "3.57",
         null,
         null,
         null,
         "0.0",
         "0.0",
         null,
         "0.0",
         null,
         null,
         null,
         null,
         "0.0214",
         null,
         null,
         null,
         null,
         null,
         null,
         null,
         null,
         null,
         null,
         null,
         null,
         null,
         "0.0",
         null,
         "0.00129",
         null,
         null,
         null,
         null,
         null,
         null,
         null,
         null,
         null,
         null,
         null,
         null,
         null,
         null,
         null,
         null,
         null,
         null,
         "14.0",
         "14.0",
         null,
         null
        ],
        [
         "2",
         "4559",
         "http://world-en.openfoodfacts.org/product/0000000004559/peanuts-torn-glasser",
         "usda-ndb-import",
         "1489069957",
         "2017-03-09T14:32:37Z",
         "1489069957",
         "2017-03-09T14:32:37Z",
         "Peanuts",
         null,
         null,
         null,
         null,
         "Torn & Glasser",
         "torn-glasser",
         null,
         null,
         null,
         null,
         null,
         null,
         null,
         null,
         null,
         null,
         null,
         null,
         null,
         null,
         null,
         null,
         null,
         "US",
         "en:united-states",
         "United States",
         "Peanuts, wheat flour, sugar, rice flour, tapioca starch, salt, leavening (ammonium bicarbonate, baking soda), soy sauce (water, soybeans, wheat, salt), potato starch.",
         null,
         null,
         null,
         null,
         null,
         "28 g (0.25 cup)",
         null,
         "0.0",
         " [ peanuts -> en:peanuts  ]  [ wheat-flour -> en:wheat-flour  ]  [ flour -> en:flour  ]  [ sugar -> en:sugar  ]  [ rice-flour -> en:rice-flour  ]  [ flour -> en:flour  ]  [ tapioca-starch -> en:tapioca-starch  ]  [ starch -> en:starch  ]  [ salt -> en:salt  ]  [ leavening -> en:leavening  ]  [ ammonium-bicarbonate -> en:ammonium-bicarbonate  ]  [ bicarbonate -> en:bicarbonate  ]  [ baking-soda -> en:baking-soda  ]  [ soda -> en:soda  ]  [ soy-sauce -> en:soy-sauce  ]  [ sauce -> en:sauce  ]  [ water -> en:water  ]  [ soybeans -> en:soybeans  ]  [ wheat -> en:wheat  ]  [ salt -> en:salt  ]  [ potato-starch -> en:potato-starch  ]  [ starch -> en:starch  ] ",
         null,
         null,
         "0.0",
         null,
         null,
         "0.0",
         null,
         null,
         null,
         "b",
         null,
         null,
         "en:to-be-completed, en:nutrition-facts-completed, en:ingredients-completed, en:expiration-date-to-be-completed, en:packaging-code-to-be-completed, en:characteristics-to-be-completed, en:categories-to-be-completed, en:brands-completed, en:packaging-to-be-completed, en:quantity-to-be-completed, en:product-name-completed, en:photos-to-be-uploaded",
         "en:to-be-completed,en:nutrition-facts-completed,en:ingredients-completed,en:expiration-date-to-be-completed,en:packaging-code-to-be-completed,en:characteristics-to-be-completed,en:categories-to-be-completed,en:brands-completed,en:packaging-to-be-completed,en:quantity-to-be-completed,en:product-name-completed,en:photos-to-be-uploaded",
         "To be completed,Nutrition facts completed,Ingredients completed,Expiration date to be completed,Packaging-code-to-be-completed,Characteristics to be completed,Categories to be completed,Brands completed,Packaging to be completed,Quantity to be completed,Product name completed,Photos to be uploaded",
         null,
         null,
         null,
         null,
         "1941.0",
         null,
         "17.86",
         "0.0",
         null,
         null,
         null,
         null,
         null,
         null,
         null,
         null,
         null,
         null,
         null,
         null,
         null,
         null,
         null,
         null,
         null,
         null,
         null,
         null,
         null,
         null,
         null,
         null,
         null,
         null,
         null,
         null,
         null,
         null,
         null,
         null,
         "0.0",
         "0.0",
         "60.71",
         "17.86",
         null,
         null,
         null,
         null,
         null,
         null,
         null,
         null,
         "7.1",
         "17.86",
         null,
         null,
         null,
         "0.635",
         "0.25",
         null,
         "0.0",
         null,
         null,
         null,
         null,
         "0.0",
         null,
         null,
         null,
         null,
         null,
         null,
         null,
         null,
         null,
         null,
         null,
         null,
         null,
         "0.071",
         null,
         "0.00129",
         null,
         null,
         null,
         null,
         null,
         null,
         null,
         null,
         null,
         null,
         null,
         null,
         null,
         null,
         null,
         null,
         null,
         null,
         "0.0",
         "0.0",
         null,
         null
        ],
        [
         "3",
         "16087",
         "http://world-en.openfoodfacts.org/product/0000000016087/organic-salted-nut-mix-grizzlies",
         "usda-ndb-import",
         "1489055731",
         "2017-03-09T10:35:31Z",
         "1489055731",
         "2017-03-09T10:35:31Z",
         "Organic Salted Nut Mix",
         null,
         null,
         null,
         null,
         "Grizzlies",
         "grizzlies",
         null,
         null,
         null,
         null,
         null,
         null,
         null,
         null,
         null,
         null,
         null,
         null,
         null,
         null,
         null,
         null,
         null,
         "US",
         "en:united-states",
         "United States",
         "Organic hazelnuts, organic cashews, organic walnuts almonds, organic sunflower oil, sea salt.",
         null,
         null,
         null,
         null,
         null,
         "28 g (0.25 cup)",
         null,
         "0.0",
         " [ organic-hazelnuts -> en:organic-hazelnuts  ]  [ hazelnuts -> en:hazelnuts  ]  [ organic-cashews -> en:organic-cashews  ]  [ cashews -> en:cashews  ]  [ organic-walnuts-almonds -> en:organic-walnuts-almonds  ]  [ walnuts-almonds -> en:walnuts-almonds  ]  [ almonds -> en:almonds  ]  [ organic-sunflower-oil -> en:organic-sunflower-oil  ]  [ sunflower-oil -> en:sunflower-oil  ]  [ oil -> en:oil  ]  [ sea-salt -> en:sea-salt  ]  [ salt -> en:salt  ] ",
         null,
         null,
         "0.0",
         null,
         null,
         "0.0",
         null,
         null,
         null,
         "d",
         null,
         null,
         "en:to-be-completed, en:nutrition-facts-completed, en:ingredients-completed, en:expiration-date-to-be-completed, en:packaging-code-to-be-completed, en:characteristics-to-be-completed, en:categories-to-be-completed, en:brands-completed, en:packaging-to-be-completed, en:quantity-to-be-completed, en:product-name-completed, en:photos-to-be-uploaded",
         "en:to-be-completed,en:nutrition-facts-completed,en:ingredients-completed,en:expiration-date-to-be-completed,en:packaging-code-to-be-completed,en:characteristics-to-be-completed,en:categories-to-be-completed,en:brands-completed,en:packaging-to-be-completed,en:quantity-to-be-completed,en:product-name-completed,en:photos-to-be-uploaded",
         "To be completed,Nutrition facts completed,Ingredients completed,Expiration date to be completed,Packaging-code-to-be-completed,Characteristics to be completed,Categories to be completed,Brands completed,Packaging to be completed,Quantity to be completed,Product name completed,Photos to be uploaded",
         null,
         null,
         null,
         null,
         "2540.0",
         null,
         "57.14",
         "5.36",
         null,
         null,
         null,
         null,
         null,
         null,
         null,
         null,
         null,
         null,
         null,
         null,
         null,
         null,
         null,
         null,
         null,
         null,
         null,
         null,
         null,
         null,
         null,
         null,
         null,
         null,
         null,
         null,
         null,
         null,
         null,
         null,
         null,
         null,
         "17.86",
         "3.57",
         null,
         null,
         null,
         null,
         null,
         null,
         null,
         null,
         "7.1",
         "17.86",
         null,
         null,
         null,
         "1.22428",
         "0.482",
         null,
         null,
         null,
         null,
         null,
         null,
         null,
         null,
         null,
         null,
         null,
         null,
         null,
         null,
         null,
         null,
         null,
         null,
         null,
         null,
         "0.143",
         null,
         "0.00514",
         null,
         null,
         null,
         null,
         null,
         null,
         null,
         null,
         null,
         null,
         null,
         null,
         null,
         null,
         null,
         null,
         null,
         null,
         "12.0",
         "12.0",
         null,
         null
        ],
        [
         "4",
         "16094",
         "http://world-en.openfoodfacts.org/product/0000000016094/organic-polenta-bob-s-red-mill",
         "usda-ndb-import",
         "1489055653",
         "2017-03-09T10:34:13Z",
         "1489055653",
         "2017-03-09T10:34:13Z",
         "Organic Polenta",
         null,
         null,
         null,
         null,
         "Bob's Red Mill",
         "bob-s-red-mill",
         null,
         null,
         null,
         null,
         null,
         null,
         null,
         null,
         null,
         null,
         null,
         null,
         null,
         null,
         null,
         null,
         null,
         "US",
         "en:united-states",
         "United States",
         "Organic polenta",
         null,
         null,
         null,
         null,
         null,
         "35 g (0.25 cup)",
         null,
         "0.0",
         " [ organic-polenta -> en:organic-polenta  ]  [ polenta -> en:polenta  ] ",
         null,
         null,
         "0.0",
         null,
         null,
         "0.0",
         null,
         null,
         null,
         null,
         null,
         null,
         "en:to-be-completed, en:nutrition-facts-completed, en:ingredients-completed, en:expiration-date-to-be-completed, en:packaging-code-to-be-completed, en:characteristics-to-be-completed, en:categories-to-be-completed, en:brands-completed, en:packaging-to-be-completed, en:quantity-to-be-completed, en:product-name-completed, en:photos-to-be-uploaded",
         "en:to-be-completed,en:nutrition-facts-completed,en:ingredients-completed,en:expiration-date-to-be-completed,en:packaging-code-to-be-completed,en:characteristics-to-be-completed,en:categories-to-be-completed,en:brands-completed,en:packaging-to-be-completed,en:quantity-to-be-completed,en:product-name-completed,en:photos-to-be-uploaded",
         "To be completed,Nutrition facts completed,Ingredients completed,Expiration date to be completed,Packaging-code-to-be-completed,Characteristics to be completed,Categories to be completed,Brands completed,Packaging to be completed,Quantity to be completed,Product name completed,Photos to be uploaded",
         null,
         null,
         null,
         null,
         "1552.0",
         null,
         "1.43",
         null,
         null,
         null,
         null,
         null,
         null,
         null,
         null,
         null,
         null,
         null,
         null,
         null,
         null,
         null,
         null,
         null,
         null,
         null,
         null,
         null,
         null,
         null,
         null,
         null,
         null,
         null,
         null,
         null,
         null,
         null,
         null,
         null,
         null,
         null,
         "77.14",
         null,
         null,
         null,
         null,
         null,
         null,
         null,
         null,
         null,
         "5.7",
         "8.57",
         null,
         null,
         null,
         null,
         null,
         null,
         null,
         null,
         null,
         null,
         null,
         null,
         null,
         null,
         null,
         null,
         null,
         null,
         null,
         null,
         null,
         null,
         null,
         null,
         null,
         null,
         null,
         null,
         null,
         null,
         null,
         null,
         null,
         null,
         null,
         null,
         null,
         null,
         null,
         null,
         null,
         null,
         null,
         null,
         null,
         null,
         null,
         null,
         null,
         null
        ]
       ],
       "shape": {
        "columns": 163,
        "rows": 5
       }
      },
      "text/html": [
       "<div>\n",
       "<style scoped>\n",
       "    .dataframe tbody tr th:only-of-type {\n",
       "        vertical-align: middle;\n",
       "    }\n",
       "\n",
       "    .dataframe tbody tr th {\n",
       "        vertical-align: top;\n",
       "    }\n",
       "\n",
       "    .dataframe thead th {\n",
       "        text-align: right;\n",
       "    }\n",
       "</style>\n",
       "<table border=\"1\" class=\"dataframe\">\n",
       "  <thead>\n",
       "    <tr style=\"text-align: right;\">\n",
       "      <th></th>\n",
       "      <th>code</th>\n",
       "      <th>url</th>\n",
       "      <th>creator</th>\n",
       "      <th>created_t</th>\n",
       "      <th>created_datetime</th>\n",
       "      <th>last_modified_t</th>\n",
       "      <th>last_modified_datetime</th>\n",
       "      <th>product_name</th>\n",
       "      <th>generic_name</th>\n",
       "      <th>quantity</th>\n",
       "      <th>...</th>\n",
       "      <th>fruits-vegetables-nuts_100g</th>\n",
       "      <th>fruits-vegetables-nuts-estimate_100g</th>\n",
       "      <th>collagen-meat-protein-ratio_100g</th>\n",
       "      <th>cocoa_100g</th>\n",
       "      <th>chlorophyl_100g</th>\n",
       "      <th>carbon-footprint_100g</th>\n",
       "      <th>nutrition-score-fr_100g</th>\n",
       "      <th>nutrition-score-uk_100g</th>\n",
       "      <th>glycemic-index_100g</th>\n",
       "      <th>water-hardness_100g</th>\n",
       "    </tr>\n",
       "  </thead>\n",
       "  <tbody>\n",
       "    <tr>\n",
       "      <th>0</th>\n",
       "      <td>3087</td>\n",
       "      <td>http://world-en.openfoodfacts.org/product/0000...</td>\n",
       "      <td>openfoodfacts-contributors</td>\n",
       "      <td>1474103866</td>\n",
       "      <td>2016-09-17T09:17:46Z</td>\n",
       "      <td>1474103893</td>\n",
       "      <td>2016-09-17T09:18:13Z</td>\n",
       "      <td>Farine de blé noir</td>\n",
       "      <td>NaN</td>\n",
       "      <td>1kg</td>\n",
       "      <td>...</td>\n",
       "      <td>NaN</td>\n",
       "      <td>NaN</td>\n",
       "      <td>NaN</td>\n",
       "      <td>NaN</td>\n",
       "      <td>NaN</td>\n",
       "      <td>NaN</td>\n",
       "      <td>NaN</td>\n",
       "      <td>NaN</td>\n",
       "      <td>NaN</td>\n",
       "      <td>NaN</td>\n",
       "    </tr>\n",
       "    <tr>\n",
       "      <th>1</th>\n",
       "      <td>4530</td>\n",
       "      <td>http://world-en.openfoodfacts.org/product/0000...</td>\n",
       "      <td>usda-ndb-import</td>\n",
       "      <td>1489069957</td>\n",
       "      <td>2017-03-09T14:32:37Z</td>\n",
       "      <td>1489069957</td>\n",
       "      <td>2017-03-09T14:32:37Z</td>\n",
       "      <td>Banana Chips Sweetened (Whole)</td>\n",
       "      <td>NaN</td>\n",
       "      <td>NaN</td>\n",
       "      <td>...</td>\n",
       "      <td>NaN</td>\n",
       "      <td>NaN</td>\n",
       "      <td>NaN</td>\n",
       "      <td>NaN</td>\n",
       "      <td>NaN</td>\n",
       "      <td>NaN</td>\n",
       "      <td>14.0</td>\n",
       "      <td>14.0</td>\n",
       "      <td>NaN</td>\n",
       "      <td>NaN</td>\n",
       "    </tr>\n",
       "    <tr>\n",
       "      <th>2</th>\n",
       "      <td>4559</td>\n",
       "      <td>http://world-en.openfoodfacts.org/product/0000...</td>\n",
       "      <td>usda-ndb-import</td>\n",
       "      <td>1489069957</td>\n",
       "      <td>2017-03-09T14:32:37Z</td>\n",
       "      <td>1489069957</td>\n",
       "      <td>2017-03-09T14:32:37Z</td>\n",
       "      <td>Peanuts</td>\n",
       "      <td>NaN</td>\n",
       "      <td>NaN</td>\n",
       "      <td>...</td>\n",
       "      <td>NaN</td>\n",
       "      <td>NaN</td>\n",
       "      <td>NaN</td>\n",
       "      <td>NaN</td>\n",
       "      <td>NaN</td>\n",
       "      <td>NaN</td>\n",
       "      <td>0.0</td>\n",
       "      <td>0.0</td>\n",
       "      <td>NaN</td>\n",
       "      <td>NaN</td>\n",
       "    </tr>\n",
       "    <tr>\n",
       "      <th>3</th>\n",
       "      <td>16087</td>\n",
       "      <td>http://world-en.openfoodfacts.org/product/0000...</td>\n",
       "      <td>usda-ndb-import</td>\n",
       "      <td>1489055731</td>\n",
       "      <td>2017-03-09T10:35:31Z</td>\n",
       "      <td>1489055731</td>\n",
       "      <td>2017-03-09T10:35:31Z</td>\n",
       "      <td>Organic Salted Nut Mix</td>\n",
       "      <td>NaN</td>\n",
       "      <td>NaN</td>\n",
       "      <td>...</td>\n",
       "      <td>NaN</td>\n",
       "      <td>NaN</td>\n",
       "      <td>NaN</td>\n",
       "      <td>NaN</td>\n",
       "      <td>NaN</td>\n",
       "      <td>NaN</td>\n",
       "      <td>12.0</td>\n",
       "      <td>12.0</td>\n",
       "      <td>NaN</td>\n",
       "      <td>NaN</td>\n",
       "    </tr>\n",
       "    <tr>\n",
       "      <th>4</th>\n",
       "      <td>16094</td>\n",
       "      <td>http://world-en.openfoodfacts.org/product/0000...</td>\n",
       "      <td>usda-ndb-import</td>\n",
       "      <td>1489055653</td>\n",
       "      <td>2017-03-09T10:34:13Z</td>\n",
       "      <td>1489055653</td>\n",
       "      <td>2017-03-09T10:34:13Z</td>\n",
       "      <td>Organic Polenta</td>\n",
       "      <td>NaN</td>\n",
       "      <td>NaN</td>\n",
       "      <td>...</td>\n",
       "      <td>NaN</td>\n",
       "      <td>NaN</td>\n",
       "      <td>NaN</td>\n",
       "      <td>NaN</td>\n",
       "      <td>NaN</td>\n",
       "      <td>NaN</td>\n",
       "      <td>NaN</td>\n",
       "      <td>NaN</td>\n",
       "      <td>NaN</td>\n",
       "      <td>NaN</td>\n",
       "    </tr>\n",
       "  </tbody>\n",
       "</table>\n",
       "<p>5 rows × 163 columns</p>\n",
       "</div>"
      ],
      "text/plain": [
       "    code                                                url  \\\n",
       "0   3087  http://world-en.openfoodfacts.org/product/0000...   \n",
       "1   4530  http://world-en.openfoodfacts.org/product/0000...   \n",
       "2   4559  http://world-en.openfoodfacts.org/product/0000...   \n",
       "3  16087  http://world-en.openfoodfacts.org/product/0000...   \n",
       "4  16094  http://world-en.openfoodfacts.org/product/0000...   \n",
       "\n",
       "                      creator   created_t      created_datetime  \\\n",
       "0  openfoodfacts-contributors  1474103866  2016-09-17T09:17:46Z   \n",
       "1             usda-ndb-import  1489069957  2017-03-09T14:32:37Z   \n",
       "2             usda-ndb-import  1489069957  2017-03-09T14:32:37Z   \n",
       "3             usda-ndb-import  1489055731  2017-03-09T10:35:31Z   \n",
       "4             usda-ndb-import  1489055653  2017-03-09T10:34:13Z   \n",
       "\n",
       "  last_modified_t last_modified_datetime                    product_name  \\\n",
       "0      1474103893   2016-09-17T09:18:13Z              Farine de blé noir   \n",
       "1      1489069957   2017-03-09T14:32:37Z  Banana Chips Sweetened (Whole)   \n",
       "2      1489069957   2017-03-09T14:32:37Z                         Peanuts   \n",
       "3      1489055731   2017-03-09T10:35:31Z          Organic Salted Nut Mix   \n",
       "4      1489055653   2017-03-09T10:34:13Z                 Organic Polenta   \n",
       "\n",
       "  generic_name quantity  ... fruits-vegetables-nuts_100g  \\\n",
       "0          NaN      1kg  ...                         NaN   \n",
       "1          NaN      NaN  ...                         NaN   \n",
       "2          NaN      NaN  ...                         NaN   \n",
       "3          NaN      NaN  ...                         NaN   \n",
       "4          NaN      NaN  ...                         NaN   \n",
       "\n",
       "  fruits-vegetables-nuts-estimate_100g collagen-meat-protein-ratio_100g  \\\n",
       "0                                  NaN                              NaN   \n",
       "1                                  NaN                              NaN   \n",
       "2                                  NaN                              NaN   \n",
       "3                                  NaN                              NaN   \n",
       "4                                  NaN                              NaN   \n",
       "\n",
       "  cocoa_100g chlorophyl_100g carbon-footprint_100g nutrition-score-fr_100g  \\\n",
       "0        NaN             NaN                   NaN                     NaN   \n",
       "1        NaN             NaN                   NaN                    14.0   \n",
       "2        NaN             NaN                   NaN                     0.0   \n",
       "3        NaN             NaN                   NaN                    12.0   \n",
       "4        NaN             NaN                   NaN                     NaN   \n",
       "\n",
       "  nutrition-score-uk_100g glycemic-index_100g water-hardness_100g  \n",
       "0                     NaN                 NaN                 NaN  \n",
       "1                    14.0                 NaN                 NaN  \n",
       "2                     0.0                 NaN                 NaN  \n",
       "3                    12.0                 NaN                 NaN  \n",
       "4                     NaN                 NaN                 NaN  \n",
       "\n",
       "[5 rows x 163 columns]"
      ]
     },
     "execution_count": 5,
     "metadata": {},
     "output_type": "execute_result"
    }
   ],
   "source": [
    "food.head()"
   ]
  },
  {
   "cell_type": "markdown",
   "metadata": {},
   "source": [
    "### Step 5. What is the number of observations in the dataset?"
   ]
  },
  {
   "cell_type": "code",
   "execution_count": 6,
   "metadata": {
    "collapsed": true
   },
   "outputs": [
    {
     "data": {
      "text/plain": [
       "356027"
      ]
     },
     "execution_count": 6,
     "metadata": {},
     "output_type": "execute_result"
    }
   ],
   "source": [
    "food.shape[0]"
   ]
  },
  {
   "cell_type": "markdown",
   "metadata": {},
   "source": [
    "### Step 6. What is the number of columns in the dataset?"
   ]
  },
  {
   "cell_type": "code",
   "execution_count": 7,
   "metadata": {
    "collapsed": true
   },
   "outputs": [
    {
     "data": {
      "text/plain": [
       "163"
      ]
     },
     "execution_count": 7,
     "metadata": {},
     "output_type": "execute_result"
    }
   ],
   "source": [
    "food.shape[1]"
   ]
  },
  {
   "cell_type": "markdown",
   "metadata": {},
   "source": [
    "### Step 7. Print the name of all the columns."
   ]
  },
  {
   "cell_type": "code",
   "execution_count": 8,
   "metadata": {
    "collapsed": true
   },
   "outputs": [
    {
     "name": "stdout",
     "output_type": "stream",
     "text": [
      "['code', 'url', 'creator', 'created_t', 'created_datetime', 'last_modified_t', 'last_modified_datetime', 'product_name', 'generic_name', 'quantity', 'packaging', 'packaging_tags', 'brands', 'brands_tags', 'categories', 'categories_tags', 'categories_en', 'origins', 'origins_tags', 'manufacturing_places', 'manufacturing_places_tags', 'labels', 'labels_tags', 'labels_en', 'emb_codes', 'emb_codes_tags', 'first_packaging_code_geo', 'cities', 'cities_tags', 'purchase_places', 'stores', 'countries', 'countries_tags', 'countries_en', 'ingredients_text', 'allergens', 'allergens_en', 'traces', 'traces_tags', 'traces_en', 'serving_size', 'no_nutriments', 'additives_n', 'additives', 'additives_tags', 'additives_en', 'ingredients_from_palm_oil_n', 'ingredients_from_palm_oil', 'ingredients_from_palm_oil_tags', 'ingredients_that_may_be_from_palm_oil_n', 'ingredients_that_may_be_from_palm_oil', 'ingredients_that_may_be_from_palm_oil_tags', 'nutrition_grade_uk', 'nutrition_grade_fr', 'pnns_groups_1', 'pnns_groups_2', 'states', 'states_tags', 'states_en', 'main_category', 'main_category_en', 'image_url', 'image_small_url', 'energy_100g', 'energy-from-fat_100g', 'fat_100g', 'saturated-fat_100g', '-butyric-acid_100g', '-caproic-acid_100g', '-caprylic-acid_100g', '-capric-acid_100g', '-lauric-acid_100g', '-myristic-acid_100g', '-palmitic-acid_100g', '-stearic-acid_100g', '-arachidic-acid_100g', '-behenic-acid_100g', '-lignoceric-acid_100g', '-cerotic-acid_100g', '-montanic-acid_100g', '-melissic-acid_100g', 'monounsaturated-fat_100g', 'polyunsaturated-fat_100g', 'omega-3-fat_100g', '-alpha-linolenic-acid_100g', '-eicosapentaenoic-acid_100g', '-docosahexaenoic-acid_100g', 'omega-6-fat_100g', '-linoleic-acid_100g', '-arachidonic-acid_100g', '-gamma-linolenic-acid_100g', '-dihomo-gamma-linolenic-acid_100g', 'omega-9-fat_100g', '-oleic-acid_100g', '-elaidic-acid_100g', '-gondoic-acid_100g', '-mead-acid_100g', '-erucic-acid_100g', '-nervonic-acid_100g', 'trans-fat_100g', 'cholesterol_100g', 'carbohydrates_100g', 'sugars_100g', '-sucrose_100g', '-glucose_100g', '-fructose_100g', '-lactose_100g', '-maltose_100g', '-maltodextrins_100g', 'starch_100g', 'polyols_100g', 'fiber_100g', 'proteins_100g', 'casein_100g', 'serum-proteins_100g', 'nucleotides_100g', 'salt_100g', 'sodium_100g', 'alcohol_100g', 'vitamin-a_100g', 'beta-carotene_100g', 'vitamin-d_100g', 'vitamin-e_100g', 'vitamin-k_100g', 'vitamin-c_100g', 'vitamin-b1_100g', 'vitamin-b2_100g', 'vitamin-pp_100g', 'vitamin-b6_100g', 'vitamin-b9_100g', 'folates_100g', 'vitamin-b12_100g', 'biotin_100g', 'pantothenic-acid_100g', 'silica_100g', 'bicarbonate_100g', 'potassium_100g', 'chloride_100g', 'calcium_100g', 'phosphorus_100g', 'iron_100g', 'magnesium_100g', 'zinc_100g', 'copper_100g', 'manganese_100g', 'fluoride_100g', 'selenium_100g', 'chromium_100g', 'molybdenum_100g', 'iodine_100g', 'caffeine_100g', 'taurine_100g', 'ph_100g', 'fruits-vegetables-nuts_100g', 'fruits-vegetables-nuts-estimate_100g', 'collagen-meat-protein-ratio_100g', 'cocoa_100g', 'chlorophyl_100g', 'carbon-footprint_100g', 'nutrition-score-fr_100g', 'nutrition-score-uk_100g', 'glycemic-index_100g', 'water-hardness_100g']\n"
     ]
    }
   ],
   "source": [
    "print(list(food.columns))"
   ]
  },
  {
   "cell_type": "markdown",
   "metadata": {},
   "source": [
    "### Step 8. What is the name of 105th column?"
   ]
  },
  {
   "cell_type": "code",
   "execution_count": 11,
   "metadata": {
    "collapsed": true
   },
   "outputs": [
    {
     "name": "stdout",
     "output_type": "stream",
     "text": [
      "-glucose_100g\n"
     ]
    }
   ],
   "source": [
    "col_105 = food.columns[104]\n",
    "print(col_105)"
   ]
  },
  {
   "cell_type": "markdown",
   "metadata": {},
   "source": [
    "### Step 9. What is the type of the observations of the 105th column?"
   ]
  },
  {
   "cell_type": "code",
   "execution_count": 13,
   "metadata": {
    "collapsed": true
   },
   "outputs": [
    {
     "data": {
      "text/plain": [
       "dtype('float64')"
      ]
     },
     "execution_count": 13,
     "metadata": {},
     "output_type": "execute_result"
    }
   ],
   "source": [
    "food[col_105].dtype"
   ]
  },
  {
   "cell_type": "markdown",
   "metadata": {},
   "source": [
    "### Step 10. How is the dataset indexed?"
   ]
  },
  {
   "cell_type": "code",
   "execution_count": 14,
   "metadata": {
    "collapsed": true
   },
   "outputs": [
    {
     "data": {
      "text/plain": [
       "RangeIndex(start=0, stop=356027, step=1)"
      ]
     },
     "execution_count": 14,
     "metadata": {},
     "output_type": "execute_result"
    }
   ],
   "source": [
    "food.index"
   ]
  },
  {
   "cell_type": "markdown",
   "metadata": {},
   "source": [
    "### Step 11. What is the product name of the 19th observation?"
   ]
  },
  {
   "cell_type": "code",
   "execution_count": 16,
   "metadata": {
    "collapsed": true
   },
   "outputs": [
    {
     "data": {
      "text/plain": [
       "'Lotus Organic Brown Jasmine Rice'"
      ]
     },
     "execution_count": 16,
     "metadata": {},
     "output_type": "execute_result"
    }
   ],
   "source": [
    "food.iloc[18]['product_name']"
   ]
  }
 ],
 "metadata": {
  "anaconda-cloud": {},
  "kernelspec": {
   "display_name": "base",
   "language": "python",
   "name": "python3"
  },
  "language_info": {
   "codemirror_mode": {
    "name": "ipython",
    "version": 3
   },
   "file_extension": ".py",
   "mimetype": "text/x-python",
   "name": "python",
   "nbconvert_exporter": "python",
   "pygments_lexer": "ipython3",
   "version": "3.12.7"
  }
 },
 "nbformat": 4,
 "nbformat_minor": 0
}
